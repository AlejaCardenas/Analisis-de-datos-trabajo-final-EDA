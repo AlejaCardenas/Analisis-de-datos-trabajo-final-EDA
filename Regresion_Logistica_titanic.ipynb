{
 "cells": [
  {
   "cell_type": "markdown",
   "id": "3daa6207-6047-4512-abd3-7a37376b4c08",
   "metadata": {},
   "source": [
    "# Regresion Logistica de los sobrevivientes del titanic"
   ]
  },
  {
   "cell_type": "markdown",
   "id": "51349f03-baac-4c9c-8267-6049fbfe9fc2",
   "metadata": {},
   "source": [
    "# Maria Alejandra Cardenas Anaya"
   ]
  },
  {
   "cell_type": "markdown",
   "id": "53f167a9-6890-4097-b4a5-e7f22672e6a1",
   "metadata": {},
   "source": [
    "# 1. Carga de datos"
   ]
  },
  {
   "cell_type": "code",
   "execution_count": 3,
   "id": "a1593306-6eb1-4251-9c81-081d79c78511",
   "metadata": {},
   "outputs": [],
   "source": [
    "import pandas as pd\n",
    "import numpy as np\n",
    "import matplotlib.pyplot as plt"
   ]
  },
  {
   "cell_type": "code",
   "execution_count": 4,
   "id": "f3962b87-10dd-43e4-92f5-be80aa2f66b4",
   "metadata": {},
   "outputs": [],
   "source": [
    "train = pd.read_csv('Titanic-Dataset.csv')"
   ]
  },
  {
   "cell_type": "code",
   "execution_count": 5,
   "id": "417586f1-3f2c-41ff-b924-f092a415f940",
   "metadata": {},
   "outputs": [
    {
     "data": {
      "text/html": [
       "<div>\n",
       "<style scoped>\n",
       "    .dataframe tbody tr th:only-of-type {\n",
       "        vertical-align: middle;\n",
       "    }\n",
       "\n",
       "    .dataframe tbody tr th {\n",
       "        vertical-align: top;\n",
       "    }\n",
       "\n",
       "    .dataframe thead th {\n",
       "        text-align: right;\n",
       "    }\n",
       "</style>\n",
       "<table border=\"1\" class=\"dataframe\">\n",
       "  <thead>\n",
       "    <tr style=\"text-align: right;\">\n",
       "      <th></th>\n",
       "      <th>PassengerId</th>\n",
       "      <th>Survived</th>\n",
       "      <th>Pclass</th>\n",
       "      <th>Name</th>\n",
       "      <th>Sex</th>\n",
       "      <th>Age</th>\n",
       "      <th>SibSp</th>\n",
       "      <th>Parch</th>\n",
       "      <th>Ticket</th>\n",
       "      <th>Fare</th>\n",
       "      <th>Cabin</th>\n",
       "      <th>Embarked</th>\n",
       "    </tr>\n",
       "  </thead>\n",
       "  <tbody>\n",
       "    <tr>\n",
       "      <th>0</th>\n",
       "      <td>1</td>\n",
       "      <td>0</td>\n",
       "      <td>3</td>\n",
       "      <td>Braund, Mr. Owen Harris</td>\n",
       "      <td>male</td>\n",
       "      <td>22.0</td>\n",
       "      <td>1</td>\n",
       "      <td>0</td>\n",
       "      <td>A/5 21171</td>\n",
       "      <td>7.2500</td>\n",
       "      <td>NaN</td>\n",
       "      <td>S</td>\n",
       "    </tr>\n",
       "    <tr>\n",
       "      <th>1</th>\n",
       "      <td>2</td>\n",
       "      <td>1</td>\n",
       "      <td>1</td>\n",
       "      <td>Cumings, Mrs. John Bradley (Florence Briggs Th...</td>\n",
       "      <td>female</td>\n",
       "      <td>38.0</td>\n",
       "      <td>1</td>\n",
       "      <td>0</td>\n",
       "      <td>PC 17599</td>\n",
       "      <td>71.2833</td>\n",
       "      <td>C85</td>\n",
       "      <td>C</td>\n",
       "    </tr>\n",
       "    <tr>\n",
       "      <th>2</th>\n",
       "      <td>3</td>\n",
       "      <td>1</td>\n",
       "      <td>3</td>\n",
       "      <td>Heikkinen, Miss. Laina</td>\n",
       "      <td>female</td>\n",
       "      <td>26.0</td>\n",
       "      <td>0</td>\n",
       "      <td>0</td>\n",
       "      <td>STON/O2. 3101282</td>\n",
       "      <td>7.9250</td>\n",
       "      <td>NaN</td>\n",
       "      <td>S</td>\n",
       "    </tr>\n",
       "  </tbody>\n",
       "</table>\n",
       "</div>"
      ],
      "text/plain": [
       "   PassengerId  Survived  Pclass  \\\n",
       "0            1         0       3   \n",
       "1            2         1       1   \n",
       "2            3         1       3   \n",
       "\n",
       "                                                Name     Sex   Age  SibSp  \\\n",
       "0                            Braund, Mr. Owen Harris    male  22.0      1   \n",
       "1  Cumings, Mrs. John Bradley (Florence Briggs Th...  female  38.0      1   \n",
       "2                             Heikkinen, Miss. Laina  female  26.0      0   \n",
       "\n",
       "   Parch            Ticket     Fare Cabin Embarked  \n",
       "0      0         A/5 21171   7.2500   NaN        S  \n",
       "1      0          PC 17599  71.2833   C85        C  \n",
       "2      0  STON/O2. 3101282   7.9250   NaN        S  "
      ]
     },
     "execution_count": 5,
     "metadata": {},
     "output_type": "execute_result"
    }
   ],
   "source": [
    "train.head(3)"
   ]
  },
  {
   "cell_type": "markdown",
   "id": "c1f818d9-edb9-4c49-927f-bf4907161fae",
   "metadata": {},
   "source": [
    "# 2. Desarrollo"
   ]
  },
  {
   "cell_type": "markdown",
   "id": "32200dec-75cb-4ae8-8933-c1a827abbcd9",
   "metadata": {},
   "source": [
    "En esta parte nos interesa explorar los datos y explicar el modelo de regresión logística a este caso de sobrevivientes del titanic"
   ]
  },
  {
   "cell_type": "markdown",
   "id": "990a394b-7292-4719-a3f6-1bbeeb9339fc",
   "metadata": {},
   "source": [
    "## 2.1 Exploración de datos"
   ]
  },
  {
   "cell_type": "markdown",
   "id": "b7e0be37-3f2b-483d-8b6b-b4daf59aca6b",
   "metadata": {},
   "source": [
    "Miramos una tabla y una gráfica de los datos que nos interesan"
   ]
  },
  {
   "cell_type": "markdown",
   "id": "35b804fe-172c-4a6a-82b7-7a2b3eb841b5",
   "metadata": {},
   "source": []
  },
  {
   "cell_type": "code",
   "execution_count": 6,
   "id": "db7c7bd1-bc62-4cae-b128-6e86435cc846",
   "metadata": {},
   "outputs": [
    {
     "data": {
      "text/html": [
       "<div>\n",
       "<style scoped>\n",
       "    .dataframe tbody tr th:only-of-type {\n",
       "        vertical-align: middle;\n",
       "    }\n",
       "\n",
       "    .dataframe tbody tr th {\n",
       "        vertical-align: top;\n",
       "    }\n",
       "\n",
       "    .dataframe thead th {\n",
       "        text-align: right;\n",
       "    }\n",
       "</style>\n",
       "<table border=\"1\" class=\"dataframe\">\n",
       "  <thead>\n",
       "    <tr style=\"text-align: right;\">\n",
       "      <th></th>\n",
       "      <th>PassengerId</th>\n",
       "      <th>Survived</th>\n",
       "    </tr>\n",
       "  </thead>\n",
       "  <tbody>\n",
       "    <tr>\n",
       "      <th>0</th>\n",
       "      <td>1</td>\n",
       "      <td>0</td>\n",
       "    </tr>\n",
       "    <tr>\n",
       "      <th>1</th>\n",
       "      <td>2</td>\n",
       "      <td>1</td>\n",
       "    </tr>\n",
       "    <tr>\n",
       "      <th>2</th>\n",
       "      <td>3</td>\n",
       "      <td>1</td>\n",
       "    </tr>\n",
       "    <tr>\n",
       "      <th>3</th>\n",
       "      <td>4</td>\n",
       "      <td>1</td>\n",
       "    </tr>\n",
       "    <tr>\n",
       "      <th>4</th>\n",
       "      <td>5</td>\n",
       "      <td>0</td>\n",
       "    </tr>\n",
       "  </tbody>\n",
       "</table>\n",
       "</div>"
      ],
      "text/plain": [
       "   PassengerId  Survived\n",
       "0            1         0\n",
       "1            2         1\n",
       "2            3         1\n",
       "3            4         1\n",
       "4            5         0"
      ]
     },
     "execution_count": 6,
     "metadata": {},
     "output_type": "execute_result"
    }
   ],
   "source": [
    "train[['PassengerId','Survived']].head()"
   ]
  },
  {
   "cell_type": "code",
   "execution_count": 7,
   "id": "1eaead77-96b8-41f3-932e-9d774073fa9f",
   "metadata": {},
   "outputs": [
    {
     "data": {
      "text/plain": [
       "<Axes: xlabel='PassengerId', ylabel='Survived'>"
      ]
     },
     "execution_count": 7,
     "metadata": {},
     "output_type": "execute_result"
    },
    {
     "data": {
      "image/png": "[encoded data removed]",
      "text/plain": [
       "<Figure size 640x480 with 1 Axes>"
      ]
     },
     "metadata": {},
     "output_type": "display_data"
    }
   ],
   "source": [
    "train[['PassengerId','Survived']].plot.scatter(x='PassengerId',y='Survived')"
   ]
  },
  {
   "cell_type": "markdown",
   "id": "a8cb5b0e-a417-4da8-bf23-b6395266b241",
   "metadata": {},
   "source": [
    "## 2.2 Función logística"
   ]
  },
  {
   "cell_type": "markdown",
   "id": "6c162e61-28ac-4cb3-b75f-da7de8431c8c",
   "metadata": {
    "jp-MarkdownHeadingCollapsed": true,
    "tags": []
   },
   "source": [
    "Vamos a pintar una función logistica sobre estos datos\n",
    "\n",
    "$$ f_{w,b}\\left(\\vec{x}^{(i)}\\right)=\\frac{1}{1+\\exp-\\left(w\\vec{x}+b\\right)}$$\n",
    "Vamos a variar $w,b$ a ver que pasa en los datos"
   ]
  },
  {
   "cell_type": "code",
   "execution_count": 9,
   "id": "efe833d1-f92b-4fda-9e5d-c9883d0255f9",
   "metadata": {},
   "outputs": [],
   "source": [
    "# pruebas de parametro\n",
    "w = 0.09\n",
    "b = -3.6"
   ]
  },
  {
   "cell_type": "code",
   "execution_count": 10,
   "id": "5590c355-7b71-4810-9ef5-615a71c33461",
   "metadata": {},
   "outputs": [],
   "source": [
    "# despues de hacer el modelos (se explica más adelante)\n",
    "# intercepto (b): [-3.68596089]\n",
    "# pendiente (w): [[0.09351691]]"
   ]
  },
  {
   "cell_type": "code",
   "execution_count": 11,
   "id": "f87071fe-fca8-438f-ad01-ce60bf3bd987",
   "metadata": {},
   "outputs": [
    {
     "data": {
      "image/png": "[encoded data removed]",
      "text/plain": [
       "<Figure size 640x480 with 1 Axes>"
      ]
     },
     "metadata": {},
     "output_type": "display_data"
    }
   ],
   "source": [
    "# puntos de la recta\n",
    "x = np.linspace(0,train['PassengerId'].max(),100)\n",
    "y = 1/(1+np.exp(-(w*x+b)))\n",
    "\n",
    "# grafica de la recta\n",
    "train.plot.scatter(x='PassengerId',y='Survived')\n",
    "plt.plot(x, y, '-r')\n",
    "plt.ylim(0,train['Survived'].max()*1.1)\n",
    "# plt.grid()\n",
    "plt.show()\n"
   ]
  },
  {
   "cell_type": "markdown",
   "id": "b41d10f4-738c-415b-99bb-754a73b7a71d",
   "metadata": {},
   "source": [
    "## 2.3 Optimización de parámetros"
   ]
  },
  {
   "cell_type": "markdown",
   "id": "f0e70d0b-8e52-40c5-b992-4b57f871feaf",
   "metadata": {},
   "source": [
    "Si escogemos esos parametros $w,b$ para el modelo, ¿Qué tan buenos son?\n",
    "\n",
    "Podemos utilizar la siguiente estrategia:\n",
    "* calcular el valor de la función logística para cada dato\n",
    "* calcular la función de pérdida (se denota con L o loss)\n",
    "* calcular el promedio de la pérdida para obtener el costo (se denota con Jo cost)\n",
    "\n",
    "Queremos los valores $w,b$ que resulten en un menor costo\n",
    "\n",
    "Las ecuaciones para las funciones son\n",
    "\n",
    "$$ L\\left(f_{w,b}\\left(\\vec{x}^{(i)}\\right),y^{(i)}\\right)=-y^{(i)}\\log\\left(f_{w,b}\\left(\\vec{x}^{(i)}\\right)\\right)-\\left(1-y^{(i)}\\right)\\log\\left(1-f_{w,b}\\left(\\vec{x}^{(i)}\\right)\\right) $$\n",
    "\n",
    "$$ J\\left(w,b\\right)=\\frac{1}{m}\\sum_{i=1}^{m}\\left[L\\left(f_{w,b}\\left(\\vec{x}^{(i)}\\right),y^{(i)}\\right)\\right] $$\n"
   ]
  },
  {
   "cell_type": "code",
   "execution_count": 14,
   "id": "ada590b8-7b8d-41eb-a0fd-fab322c521cf",
   "metadata": {
    "tags": []
   },
   "outputs": [
    {
     "data": {
      "text/plain": [
       "111.32940986629836"
      ]
     },
     "execution_count": 14,
     "metadata": {},
     "output_type": "execute_result"
    }
   ],
   "source": [
    "# calculo de las predicciones\n",
    "train['sigmoid'] = 1/(1+np.exp(-(train['Pclass']*w+b)))\n",
    "\n",
    "# calculo de la funcion de error\n",
    "train['loss_xi'] = -train['Fare']*np.log(train['sigmoid'])-(1-train['Fare'])*np.log(1-train['sigmoid'])\n",
    "cost_j = train['loss_xi'].mean()\n",
    "cost_j"
   ]
  },
  {
   "cell_type": "markdown",
   "id": "94ea73b6-5050-48c5-b2e1-5eef72f10e62",
   "metadata": {},
   "source": [
    "Esto lo hemos hecho con los parametros que hemos obtenido a ojo por ciento. Ahora vamos a ser más refinados y calcularlo para muchos parametros a la vez y luego de ahi mirar el que tenga menor costo.\n",
    "\n",
    "Para eso hacemos lo siguiente:\n",
    "* Construimos un dataframe con valores para $w,b$ que varían sobre una cuadricula o grid\n",
    "* Creamos una función de python que calcule el costo $J$ dados parametros $w,b$\n",
    "* Aplicamos la función sobre el dataframe con los valores $w,b$ en la cuadricula\n",
    "* Podemos ordenar la tabla resultante para obtener los valores $w,b$ con el menor costo\n",
    "* Luego hacemos gráficas para verificar el resultado"
   ]
  },
  {
   "cell_type": "code",
   "execution_count": 8023,
   "id": "a0ef685a-dd2f-47ec-bb2f-97bed2e04ae5",
   "metadata": {},
   "outputs": [],
   "source": [
    "# hacemos dataframe para calcular el error en funcion de los parametros w, b"
   ]
  },
  {
   "cell_type": "code",
   "execution_count": 15,
   "id": "d9000793-5dcd-4643-87d5-bba2e0a70481",
   "metadata": {
    "tags": []
   },
   "outputs": [],
   "source": [
    "array = np.mgrid[0.05:0.15:0.01, -4:-3:0.01].reshape(2,-1).T\n",
    "df = pd.DataFrame(data = array, \n",
    "                  columns = ['w','b'])\n",
    "\n",
    "# round para solventar problema con muchos decimales\n",
    "df['w'] = np.round(df['w'], 6)\n",
    "df['b'] = np.round(df['b'], 6)"
   ]
  },
  {
   "cell_type": "code",
   "execution_count": 21,
   "id": "7f081bef-45a7-479f-8347-15efd6fc6f5b",
   "metadata": {},
   "outputs": [
    {
     "data": {
      "text/html": [
       "<div>\n",
       "<style scoped>\n",
       "    .dataframe tbody tr th:only-of-type {\n",
       "        vertical-align: middle;\n",
       "    }\n",
       "\n",
       "    .dataframe tbody tr th {\n",
       "        vertical-align: top;\n",
       "    }\n",
       "\n",
       "    .dataframe thead th {\n",
       "        text-align: right;\n",
       "    }\n",
       "</style>\n",
       "<table border=\"1\" class=\"dataframe\">\n",
       "  <thead>\n",
       "    <tr style=\"text-align: right;\">\n",
       "      <th></th>\n",
       "      <th>w</th>\n",
       "      <th>b</th>\n",
       "    </tr>\n",
       "  </thead>\n",
       "  <tbody>\n",
       "    <tr>\n",
       "      <th>0</th>\n",
       "      <td>0.05</td>\n",
       "      <td>-4.00</td>\n",
       "    </tr>\n",
       "    <tr>\n",
       "      <th>1</th>\n",
       "      <td>0.05</td>\n",
       "      <td>-3.99</td>\n",
       "    </tr>\n",
       "    <tr>\n",
       "      <th>2</th>\n",
       "      <td>0.05</td>\n",
       "      <td>-3.98</td>\n",
       "    </tr>\n",
       "    <tr>\n",
       "      <th>3</th>\n",
       "      <td>0.05</td>\n",
       "      <td>-3.97</td>\n",
       "    </tr>\n",
       "    <tr>\n",
       "      <th>4</th>\n",
       "      <td>0.05</td>\n",
       "      <td>-3.96</td>\n",
       "    </tr>\n",
       "    <tr>\n",
       "      <th>...</th>\n",
       "      <td>...</td>\n",
       "      <td>...</td>\n",
       "    </tr>\n",
       "    <tr>\n",
       "      <th>995</th>\n",
       "      <td>0.14</td>\n",
       "      <td>-3.05</td>\n",
       "    </tr>\n",
       "    <tr>\n",
       "      <th>996</th>\n",
       "      <td>0.14</td>\n",
       "      <td>-3.04</td>\n",
       "    </tr>\n",
       "    <tr>\n",
       "      <th>997</th>\n",
       "      <td>0.14</td>\n",
       "      <td>-3.03</td>\n",
       "    </tr>\n",
       "    <tr>\n",
       "      <th>998</th>\n",
       "      <td>0.14</td>\n",
       "      <td>-3.02</td>\n",
       "    </tr>\n",
       "    <tr>\n",
       "      <th>999</th>\n",
       "      <td>0.14</td>\n",
       "      <td>-3.01</td>\n",
       "    </tr>\n",
       "  </tbody>\n",
       "</table>\n",
       "<p>1000 rows × 2 columns</p>\n",
       "</div>"
      ],
      "text/plain": [
       "        w     b\n",
       "0    0.05 -4.00\n",
       "1    0.05 -3.99\n",
       "2    0.05 -3.98\n",
       "3    0.05 -3.97\n",
       "4    0.05 -3.96\n",
       "..    ...   ...\n",
       "995  0.14 -3.05\n",
       "996  0.14 -3.04\n",
       "997  0.14 -3.03\n",
       "998  0.14 -3.02\n",
       "999  0.14 -3.01\n",
       "\n",
       "[1000 rows x 2 columns]"
      ]
     },
     "execution_count": 21,
     "metadata": {},
     "output_type": "execute_result"
    }
   ],
   "source": [
    "df"
   ]
  },
  {
   "cell_type": "code",
   "execution_count": 17,
   "id": "04441243-2769-4b13-a28e-4c418e950a1a",
   "metadata": {},
   "outputs": [],
   "source": [
    "def sum_error_df(df):\n",
    "    train['sigmoid'] = 1/(1+np.exp(-(train['Pclass']*df['w']+df['b'])))\n",
    "    train['loss_xi'] = -train['Fare']*np.log(train['sigmoid'])-(1-train['Fare'])*np.log(1-train['sigmoid'])\n",
    "    j_cost = train['loss_xi'].mean()\n",
    "    return(j_cost)"
   ]
  },
  {
   "cell_type": "code",
   "execution_count": 18,
   "id": "b88eccb6-1ed9-439b-8cb4-4ae51445fb03",
   "metadata": {},
   "outputs": [],
   "source": [
    "df['error'] = df.apply(sum_error_df, axis=1)"
   ]
  },
  {
   "cell_type": "code",
   "execution_count": 19,
   "id": "49d8cd15-03eb-4938-a033-b6ff148a214e",
   "metadata": {},
   "outputs": [
    {
     "data": {
      "text/html": [
       "<div>\n",
       "<style scoped>\n",
       "    .dataframe tbody tr th:only-of-type {\n",
       "        vertical-align: middle;\n",
       "    }\n",
       "\n",
       "    .dataframe tbody tr th {\n",
       "        vertical-align: top;\n",
       "    }\n",
       "\n",
       "    .dataframe thead th {\n",
       "        text-align: right;\n",
       "    }\n",
       "</style>\n",
       "<table border=\"1\" class=\"dataframe\">\n",
       "  <thead>\n",
       "    <tr style=\"text-align: right;\">\n",
       "      <th></th>\n",
       "      <th>w</th>\n",
       "      <th>b</th>\n",
       "      <th>error</th>\n",
       "    </tr>\n",
       "  </thead>\n",
       "  <tbody>\n",
       "    <tr>\n",
       "      <th>999</th>\n",
       "      <td>0.14</td>\n",
       "      <td>-3.01</td>\n",
       "      <td>89.784869</td>\n",
       "    </tr>\n",
       "    <tr>\n",
       "      <th>998</th>\n",
       "      <td>0.14</td>\n",
       "      <td>-3.02</td>\n",
       "      <td>90.106273</td>\n",
       "    </tr>\n",
       "    <tr>\n",
       "      <th>899</th>\n",
       "      <td>0.13</td>\n",
       "      <td>-3.01</td>\n",
       "      <td>90.298785</td>\n",
       "    </tr>\n",
       "    <tr>\n",
       "      <th>997</th>\n",
       "      <td>0.14</td>\n",
       "      <td>-3.03</td>\n",
       "      <td>90.427683</td>\n",
       "    </tr>\n",
       "    <tr>\n",
       "      <th>898</th>\n",
       "      <td>0.13</td>\n",
       "      <td>-3.02</td>\n",
       "      <td>90.620203</td>\n",
       "    </tr>\n",
       "  </tbody>\n",
       "</table>\n",
       "</div>"
      ],
      "text/plain": [
       "        w     b      error\n",
       "999  0.14 -3.01  89.784869\n",
       "998  0.14 -3.02  90.106273\n",
       "899  0.13 -3.01  90.298785\n",
       "997  0.14 -3.03  90.427683\n",
       "898  0.13 -3.02  90.620203"
      ]
     },
     "execution_count": 19,
     "metadata": {},
     "output_type": "execute_result"
    }
   ],
   "source": [
    "df.sort_values(by=['error']).head()"
   ]
  },
  {
   "cell_type": "code",
   "execution_count": 20,
   "id": "e0e6c64d-f87a-4c09-a955-6477912bf9b8",
   "metadata": {},
   "outputs": [],
   "source": [
    "df_3d = df.pivot(index='w', columns='b', values='error')"
   ]
  },
  {
   "cell_type": "code",
   "execution_count": 21,
   "id": "2229e4ce-ea85-4f96-9f71-9ca93334d01a",
   "metadata": {},
   "outputs": [
    {
     "data": {
      "text/html": [
       "<div>\n",
       "<style scoped>\n",
       "    .dataframe tbody tr th:only-of-type {\n",
       "        vertical-align: middle;\n",
       "    }\n",
       "\n",
       "    .dataframe tbody tr th {\n",
       "        vertical-align: top;\n",
       "    }\n",
       "\n",
       "    .dataframe thead th {\n",
       "        text-align: right;\n",
       "    }\n",
       "</style>\n",
       "<table border=\"1\" class=\"dataframe\">\n",
       "  <thead>\n",
       "    <tr style=\"text-align: right;\">\n",
       "      <th>b</th>\n",
       "      <th>-4.00</th>\n",
       "      <th>-3.99</th>\n",
       "      <th>-3.98</th>\n",
       "      <th>-3.97</th>\n",
       "      <th>-3.96</th>\n",
       "      <th>-3.95</th>\n",
       "      <th>-3.94</th>\n",
       "      <th>-3.93</th>\n",
       "      <th>-3.92</th>\n",
       "      <th>-3.91</th>\n",
       "      <th>...</th>\n",
       "      <th>-3.10</th>\n",
       "      <th>-3.09</th>\n",
       "      <th>-3.08</th>\n",
       "      <th>-3.07</th>\n",
       "      <th>-3.06</th>\n",
       "      <th>-3.05</th>\n",
       "      <th>-3.04</th>\n",
       "      <th>-3.03</th>\n",
       "      <th>-3.02</th>\n",
       "      <th>-3.01</th>\n",
       "    </tr>\n",
       "    <tr>\n",
       "      <th>w</th>\n",
       "      <th></th>\n",
       "      <th></th>\n",
       "      <th></th>\n",
       "      <th></th>\n",
       "      <th></th>\n",
       "      <th></th>\n",
       "      <th></th>\n",
       "      <th></th>\n",
       "      <th></th>\n",
       "      <th></th>\n",
       "      <th></th>\n",
       "      <th></th>\n",
       "      <th></th>\n",
       "      <th></th>\n",
       "      <th></th>\n",
       "      <th></th>\n",
       "      <th></th>\n",
       "      <th></th>\n",
       "      <th></th>\n",
       "      <th></th>\n",
       "      <th></th>\n",
       "    </tr>\n",
       "  </thead>\n",
       "  <tbody>\n",
       "    <tr>\n",
       "      <th>0.05</th>\n",
       "      <td>126.260027</td>\n",
       "      <td>125.938187</td>\n",
       "      <td>125.616350</td>\n",
       "      <td>125.294514</td>\n",
       "      <td>124.972681</td>\n",
       "      <td>124.650849</td>\n",
       "      <td>124.329020</td>\n",
       "      <td>124.007193</td>\n",
       "      <td>123.685368</td>\n",
       "      <td>123.363545</td>\n",
       "      <td>...</td>\n",
       "      <td>97.305238</td>\n",
       "      <td>96.983680</td>\n",
       "      <td>96.662127</td>\n",
       "      <td>96.340578</td>\n",
       "      <td>96.019034</td>\n",
       "      <td>95.697494</td>\n",
       "      <td>95.375960</td>\n",
       "      <td>95.054430</td>\n",
       "      <td>94.732905</td>\n",
       "      <td>94.411385</td>\n",
       "    </tr>\n",
       "    <tr>\n",
       "      <th>0.06</th>\n",
       "      <td>125.745071</td>\n",
       "      <td>125.423236</td>\n",
       "      <td>125.101403</td>\n",
       "      <td>124.779573</td>\n",
       "      <td>124.457744</td>\n",
       "      <td>124.135917</td>\n",
       "      <td>123.814093</td>\n",
       "      <td>123.492271</td>\n",
       "      <td>123.170451</td>\n",
       "      <td>122.848633</td>\n",
       "      <td>...</td>\n",
       "      <td>96.790946</td>\n",
       "      <td>96.469399</td>\n",
       "      <td>96.147856</td>\n",
       "      <td>95.826319</td>\n",
       "      <td>95.504786</td>\n",
       "      <td>95.183258</td>\n",
       "      <td>94.861734</td>\n",
       "      <td>94.540216</td>\n",
       "      <td>94.218703</td>\n",
       "      <td>93.897195</td>\n",
       "    </tr>\n",
       "    <tr>\n",
       "      <th>0.07</th>\n",
       "      <td>125.230128</td>\n",
       "      <td>124.908298</td>\n",
       "      <td>124.586470</td>\n",
       "      <td>124.264644</td>\n",
       "      <td>123.942820</td>\n",
       "      <td>123.620999</td>\n",
       "      <td>123.299179</td>\n",
       "      <td>122.977362</td>\n",
       "      <td>122.655547</td>\n",
       "      <td>122.333735</td>\n",
       "      <td>...</td>\n",
       "      <td>96.276683</td>\n",
       "      <td>95.955147</td>\n",
       "      <td>95.633616</td>\n",
       "      <td>95.312089</td>\n",
       "      <td>94.990568</td>\n",
       "      <td>94.669051</td>\n",
       "      <td>94.347540</td>\n",
       "      <td>94.026033</td>\n",
       "      <td>93.704532</td>\n",
       "      <td>93.383036</td>\n",
       "    </tr>\n",
       "    <tr>\n",
       "      <th>0.08</th>\n",
       "      <td>124.715197</td>\n",
       "      <td>124.393372</td>\n",
       "      <td>124.071549</td>\n",
       "      <td>123.749728</td>\n",
       "      <td>123.427910</td>\n",
       "      <td>123.106094</td>\n",
       "      <td>122.784279</td>\n",
       "      <td>122.462468</td>\n",
       "      <td>122.140658</td>\n",
       "      <td>121.818850</td>\n",
       "      <td>...</td>\n",
       "      <td>95.762449</td>\n",
       "      <td>95.440925</td>\n",
       "      <td>95.119405</td>\n",
       "      <td>94.797890</td>\n",
       "      <td>94.476381</td>\n",
       "      <td>94.154876</td>\n",
       "      <td>93.833376</td>\n",
       "      <td>93.511882</td>\n",
       "      <td>93.190393</td>\n",
       "      <td>92.868909</td>\n",
       "    </tr>\n",
       "    <tr>\n",
       "      <th>0.09</th>\n",
       "      <td>124.200280</td>\n",
       "      <td>123.878460</td>\n",
       "      <td>123.556642</td>\n",
       "      <td>123.234827</td>\n",
       "      <td>122.913013</td>\n",
       "      <td>122.591202</td>\n",
       "      <td>122.269393</td>\n",
       "      <td>121.947587</td>\n",
       "      <td>121.625783</td>\n",
       "      <td>121.303981</td>\n",
       "      <td>...</td>\n",
       "      <td>95.248246</td>\n",
       "      <td>94.926733</td>\n",
       "      <td>94.605225</td>\n",
       "      <td>94.283723</td>\n",
       "      <td>93.962225</td>\n",
       "      <td>93.640732</td>\n",
       "      <td>93.319245</td>\n",
       "      <td>92.997763</td>\n",
       "      <td>92.676286</td>\n",
       "      <td>92.354815</td>\n",
       "    </tr>\n",
       "  </tbody>\n",
       "</table>\n",
       "<p>5 rows × 100 columns</p>\n",
       "</div>"
      ],
      "text/plain": [
       "b          -4.00       -3.99       -3.98       -3.97       -3.96       -3.95  \\\n",
       "w                                                                              \n",
       "0.05  126.260027  125.938187  125.616350  125.294514  124.972681  124.650849   \n",
       "0.06  125.745071  125.423236  125.101403  124.779573  124.457744  124.135917   \n",
       "0.07  125.230128  124.908298  124.586470  124.264644  123.942820  123.620999   \n",
       "0.08  124.715197  124.393372  124.071549  123.749728  123.427910  123.106094   \n",
       "0.09  124.200280  123.878460  123.556642  123.234827  122.913013  122.591202   \n",
       "\n",
       "b          -3.94       -3.93       -3.92       -3.91  ...      -3.10  \\\n",
       "w                                                     ...              \n",
       "0.05  124.329020  124.007193  123.685368  123.363545  ...  97.305238   \n",
       "0.06  123.814093  123.492271  123.170451  122.848633  ...  96.790946   \n",
       "0.07  123.299179  122.977362  122.655547  122.333735  ...  96.276683   \n",
       "0.08  122.784279  122.462468  122.140658  121.818850  ...  95.762449   \n",
       "0.09  122.269393  121.947587  121.625783  121.303981  ...  95.248246   \n",
       "\n",
       "b         -3.09      -3.08      -3.07      -3.06      -3.05      -3.04  \\\n",
       "w                                                                        \n",
       "0.05  96.983680  96.662127  96.340578  96.019034  95.697494  95.375960   \n",
       "0.06  96.469399  96.147856  95.826319  95.504786  95.183258  94.861734   \n",
       "0.07  95.955147  95.633616  95.312089  94.990568  94.669051  94.347540   \n",
       "0.08  95.440925  95.119405  94.797890  94.476381  94.154876  93.833376   \n",
       "0.09  94.926733  94.605225  94.283723  93.962225  93.640732  93.319245   \n",
       "\n",
       "b         -3.03      -3.02      -3.01  \n",
       "w                                      \n",
       "0.05  95.054430  94.732905  94.411385  \n",
       "0.06  94.540216  94.218703  93.897195  \n",
       "0.07  94.026033  93.704532  93.383036  \n",
       "0.08  93.511882  93.190393  92.868909  \n",
       "0.09  92.997763  92.676286  92.354815  \n",
       "\n",
       "[5 rows x 100 columns]"
      ]
     },
     "execution_count": 21,
     "metadata": {},
     "output_type": "execute_result"
    }
   ],
   "source": [
    "df_3d.head()"
   ]
  },
  {
   "cell_type": "code",
   "execution_count": 27,
   "id": "64c6a2c1-2636-4fd1-a09f-09fad76f979b",
   "metadata": {},
   "outputs": [],
   "source": [
    "import matplotlib as mpl\n",
    "import matplotlib.pyplot as plt\n",
    "from mpl_toolkits.mplot3d import Axes3D"
   ]
  },
  {
   "cell_type": "code",
   "execution_count": 22,
   "id": "acba388a-44db-4c7d-bdfa-14c844d5940c",
   "metadata": {},
   "outputs": [
    {
     "data": {
      "text/plain": [
       "<mpl_toolkits.mplot3d.art3d.Poly3DCollection at 0x136b9753590>"
      ]
     },
     "execution_count": 22,
     "metadata": {},
     "output_type": "execute_result"
    },
    {
     "data": {
      "image/png": "[encoded data removed]",
      "text/plain": [
       "<Figure size 640x480 with 1 Axes>"
      ]
     },
     "metadata": {},
     "output_type": "display_data"
    }
   ],
   "source": [
    "x = df_3d.columns\n",
    "y = df_3d.index\n",
    "X,Y = np.meshgrid(x,y)\n",
    "Z = df_3d\n",
    "\n",
    "fig = plt.figure()\n",
    "ax = fig.add_subplot(111, projection='3d')\n",
    "ax.plot_surface(X, Y, Z)"
   ]
  },
  {
   "cell_type": "code",
   "execution_count": 23,
   "id": "974b8bcc-91a8-446e-b3a4-a049f756b7c4",
   "metadata": {},
   "outputs": [
    {
     "data": {
      "text/plain": [
       "<matplotlib.contour.QuadContourSet at 0x136b8f66c90>"
      ]
     },
     "execution_count": 23,
     "metadata": {},
     "output_type": "execute_result"
    },
    {
     "data": {
      "image/png": "[encoded data removed]",
      "text/plain": [
       "<Figure size 640x480 with 1 Axes>"
      ]
     },
     "metadata": {},
     "output_type": "display_data"
    }
   ],
   "source": [
    "x = df_3d.columns\n",
    "y = df_3d.index\n",
    "X,Y = np.meshgrid(x,y)\n",
    "Z = df_3d\n",
    "plt.contourf(Y, X, Z, alpha=0.7, cmap=plt.cm.jet)"
   ]
  },
  {
   "cell_type": "markdown",
   "id": "f647b4a7-3c02-44d2-b657-044fb4c0693c",
   "metadata": {},
   "source": [
    "## Bonus: Optimizando los parámetros"
   ]
  },
  {
   "cell_type": "markdown",
   "id": "f273095c-9450-4bf5-87b3-4cd6e5bd44ae",
   "metadata": {},
   "source": [
    "Esta sección es opcional.\n",
    "\n",
    "Vamos a utilizar el método del gradiente descendente para calcular los valores optimos de $w,b$.\n",
    "\n",
    "Para esto tenemos que calcular el gradiente para $w,b$ con respecto de la función J (esta es la que hemos gráficado), sus funciones son\n",
    "\n",
    "$$ \\frac{\\partial}{\\partial w}J\\left(w,b\\right)=\\frac{1}{m}\\sum_{i=1}^{m}\\left(f_{w,b}\\left(\\vec{x}^{(i)}\\right)-y^{(i)}\\right)x^{(i)} $$\n",
    "\n",
    "$$ \\frac{\\partial}{\\partial b}J\\left(w,b\\right)=\\frac{1}{m}\\sum_{i=1}^{m}\\left(f_{w,b}\\left(\\vec{x}^{(i)}\\right)-y^{(i)}\\right)$$"
   ]
  },
  {
   "cell_type": "markdown",
   "id": "9e3c5061-2ecf-46cb-94bd-35715c56e871",
   "metadata": {},
   "source": [
    "Las funciones respectivas en python serían"
   ]
  },
  {
   "cell_type": "code",
   "execution_count": 25,
   "id": "79fedcdf-c1d7-4177-b38d-7dad87e76ce8",
   "metadata": {},
   "outputs": [],
   "source": [
    "def delta_j_w(w, b):\n",
    "    train['sigmoid'] = 1/(1+np.exp(-(train['Pclass']*w+b)))\n",
    "    train['partial_loss'] = (train['sigmoid']-train['Fare'])*train['Pclass']\n",
    "    derivative = train['partial_loss'].mean()\n",
    "    return(derivative) \n",
    "\n",
    "def delta_j_b(w, b):\n",
    "    train['sigmoid'] = 1/(1+np.exp(-(train['Pclass']*w+b)))\n",
    "    train['partial_loss'] = (train['sigmoid']-train['Fare'])\n",
    "    derivative = train['partial_loss'].mean()\n",
    "    return(derivative) "
   ]
  },
  {
   "cell_type": "markdown",
   "id": "440b6a57-5102-4b32-93e4-57e354d3dc3a",
   "metadata": {},
   "source": [
    "Damos valores iniciales a $w,b$"
   ]
  },
  {
   "cell_type": "code",
   "execution_count": 26,
   "id": "63897c42-5133-48dd-be0e-9c4de3b10541",
   "metadata": {},
   "outputs": [],
   "source": [
    "w_0 = 0.09\n",
    "b_0 = -3.57"
   ]
  },
  {
   "cell_type": "markdown",
   "id": "65963269-5503-40cd-b874-f57d88969fc7",
   "metadata": {},
   "source": [
    "Empezamos a iterar hasta obtener valores que no varíen tanto"
   ]
  },
  {
   "cell_type": "code",
   "execution_count": 27,
   "id": "182ee81e-59e8-440d-be3d-9712beb7be01",
   "metadata": {},
   "outputs": [
    {
     "name": "stdout",
     "output_type": "stream",
     "text": [
      "0.14146389341841856 -0.3529373531477993\n"
     ]
    }
   ],
   "source": [
    "alpha_w = 0.001\n",
    "alpha_b = 0.1\n",
    "\n",
    "w_new = w_0 - alpha_w * delta_j_w(w_0, b_0)\n",
    "b_new = b_0 - alpha_b * delta_j_b(w_0, b_0)\n",
    "\n",
    "w_0 = w_new\n",
    "b_0 = b_new\n",
    "\n",
    "print(w_0, b_0)"
   ]
  },
  {
   "cell_type": "code",
   "execution_count": 223,
   "id": "031d1170-c4ec-4f82-baca-22bc1a45e52b",
   "metadata": {},
   "outputs": [],
   "source": [
    "# valores optimos de sklearn (más abajo la explicación)\n",
    "# w = 0.09351691\n",
    "# b = -3.68596089"
   ]
  },
  {
   "cell_type": "markdown",
   "id": "d8b9269c-3693-4a65-a4af-e575cff6746e",
   "metadata": {},
   "source": [
    "Ahora vamos a hacer lo mismo pero mucho más rápido con sklear"
   ]
  },
  {
   "cell_type": "code",
   "execution_count": 31,
   "id": "0d6d699a-bb80-44b8-8955-11bad5b26498",
   "metadata": {},
   "outputs": [
    {
     "name": "stdout",
     "output_type": "stream",
     "text": [
      "intercepto (b): [-0.45544805]\n",
      "pendiente (w): [[-4.00261488e-05]]\n"
     ]
    }
   ],
   "source": [
    "from sklearn.linear_model import LogisticRegression\n",
    "\n",
    "# definiendo input y output\n",
    "X_train = np.array(train['PassengerId']).reshape((-1, 1))\n",
    "Y_train = np.array(train['Survived'])\n",
    "\n",
    "# creando modelo\n",
    "model = LogisticRegression()\n",
    "model.fit(X_train, Y_train)\n",
    "\n",
    "# imprimiendo parametros\n",
    "print(f\"intercepto (b): {model.intercept_}\")\n",
    "print(f\"pendiente (w): {model.coef_}\")"
   ]
  },
  {
   "cell_type": "code",
   "execution_count": null,
   "id": "e4863ff6-d5a9-4ebb-a834-f775f7103b91",
   "metadata": {},
   "outputs": [],
   "source": []
  }
 ],
 "metadata": {
  "kernelspec": {
   "display_name": "Python 3 (ipykernel)",
   "language": "python",
   "name": "python3"
  },
  "language_info": {
   "codemirror_mode": {
    "name": "ipython",
    "version": 3
   },
   "file_extension": ".py",
   "mimetype": "text/x-python",
   "name": "python",
   "nbconvert_exporter": "python",
   "pygments_lexer": "ipython3",
   "version": "3.11.7"
  }
 },
 "nbformat": 4,
 "nbformat_minor": 5
}
